{
 "cells": [
  {
   "cell_type": "code",
   "execution_count": 2,
   "metadata": {
    "collapsed": true
   },
   "outputs": [],
   "source": [
    "import os \n",
    "import numpy as np \n",
    "import matplotlib.pyplot as plt\n",
    "import pandas as pd"
   ]
  },
  {
   "cell_type": "code",
   "execution_count": 11,
   "metadata": {
    "collapsed": false
   },
   "outputs": [],
   "source": [
    "cabinet = ['State', \n",
    "           'the Treasury', \n",
    "           'Defense', \n",
    "           'Attorney General', \n",
    "           'the Interior', \n",
    "           'Agriculture',\n",
    "           'Commerce', \n",
    "           'Labor', \n",
    "           'Health and Human Services', \n",
    "           'Housing and Urban Development', \n",
    "           'Transportation', \n",
    "           'Energy', \n",
    "           'Education', \n",
    "           'Veteran Affairs', \n",
    "           'Homeland Security']\n",
    "cabinet_fn = ['Secretary of ' + x if x != 'Attorney General' else x for x in cabinet]"
   ]
  },
  {
   "cell_type": "code",
   "execution_count": 15,
   "metadata": {
    "collapsed": false
   },
   "outputs": [],
   "source": [
    "cabinet_df = pd.DataFrame(None, columns=['Name', 'Position', 'Start Date', 'End Date', 'Yea', 'Nay', 'Party'])"
   ]
  },
  {
   "cell_type": "markdown",
   "metadata": {},
   "source": [
    "# Secretary of State"
   ]
  },
  {
   "cell_type": "code",
   "execution_count": null,
   "metadata": {
    "collapsed": true
   },
   "outputs": [],
   "source": [
    "names = ['Thomas Jefferson', \n",
    "         '']"
   ]
  }
 ],
 "metadata": {
  "kernelspec": {
   "display_name": "Python 2",
   "language": "python",
   "name": "python2"
  },
  "language_info": {
   "codemirror_mode": {
    "name": "ipython",
    "version": 2
   },
   "file_extension": ".py",
   "mimetype": "text/x-python",
   "name": "python",
   "nbconvert_exporter": "python",
   "pygments_lexer": "ipython2",
   "version": "2.7.10"
  }
 },
 "nbformat": 4,
 "nbformat_minor": 2
}
